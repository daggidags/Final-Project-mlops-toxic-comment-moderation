{
 "cells": [
  {
   "cell_type": "code",
   "execution_count": 2,
   "id": "2ae54101",
   "metadata": {},
   "outputs": [],
   "source": [
    "# src/train.py\n",
    "import pandas as pd\n",
    "from pathlib import Path\n",
    "from sklearn.model_selection import train_test_split\n",
    "from sklearn.pipeline import Pipeline\n",
    "from sklearn.feature_extraction.text import TfidfVectorizer\n",
    "from sklearn.linear_model import LogisticRegression\n",
    "from sklearn.metrics import accuracy_score, f1_score\n",
    "import mlflow\n",
    "import mlflow.sklearn\n",
    "\n",
    "# Set paths\n",
    "base_dir = Path.cwd().parent # may need to adjust to get to correct working directory!\n",
    "\n",
    "data_path = base_dir / \"data\" / \"train.csv\"\n",
    "\n",
    "# Load data\n",
    "df = pd.read_csv(data_path)\n"
   ]
  },
  {
   "cell_type": "code",
   "execution_count": 3,
   "id": "91cbbd25",
   "metadata": {},
   "outputs": [
    {
     "name": "stderr",
     "output_type": "stream",
     "text": [
      "2025/08/19 19:54:11 INFO mlflow.tracking.fluent: Experiment with name 'toxicity-moderation' does not exist. Creating a new experiment.\n",
      "2025/08/19 19:54:20 WARNING mlflow.models.model: `artifact_path` is deprecated. Please use `name` instead.\n",
      "2025/08/19 19:54:28 WARNING mlflow.models.model: Model logged without a signature and input example. Please set `input_example` parameter when logging the model to auto infer the model signature.\n"
     ]
    }
   ],
   "source": [
    "X = df[\"comment_text\"]\n",
    "y = df[\"toxic\"]\n",
    "\n",
    "X_train, X_test, y_train, y_test = train_test_split(X, y, stratify=y)\n",
    "\n",
    "# Create model\n",
    "pipeline = Pipeline([\n",
    "    ('tfidf', TfidfVectorizer(max_features=10000)),\n",
    "    ('clf', LogisticRegression(max_iter=1000))\n",
    "])\n",
    "\n",
    "# Track experiment\n",
    "mlflow.set_experiment(\"toxicity-moderation\")\n",
    "with mlflow.start_run():\n",
    "    pipeline.fit(X_train, y_train)\n",
    "    y_pred = pipeline.predict(X_test)\n",
    "    \n",
    "    # Log metrics and model\n",
    "    mlflow.log_params({\n",
    "        \"vectorizer\": \"tfidf\",\n",
    "        \"classifier\": \"logreg\",\n",
    "        \"max_features\": 10000,\n",
    "        \"max_iter\": 1000\n",
    "    })\n",
    "    mlflow.log_metrics({\n",
    "        \"accuracy\": accuracy_score(y_test, y_pred),\n",
    "        \"f1\": f1_score(y_test, y_pred)\n",
    "    })\n",
    "    mlflow.sklearn.log_model(pipeline, \"model\")"
   ]
  }
 ],
 "metadata": {
  "kernelspec": {
   "display_name": "Python 3 (Stable)",
   "language": "python",
   "name": "jupyterlab-debugger"
  },
  "language_info": {
   "codemirror_mode": {
    "name": "ipython",
    "version": 3
   },
   "file_extension": ".py",
   "mimetype": "text/x-python",
   "name": "python",
   "nbconvert_exporter": "python",
   "pygments_lexer": "ipython3",
   "version": "3.11.5"
  }
 },
 "nbformat": 4,
 "nbformat_minor": 5
}
